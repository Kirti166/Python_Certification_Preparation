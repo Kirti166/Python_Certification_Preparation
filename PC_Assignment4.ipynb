{
  "nbformat": 4,
  "nbformat_minor": 0,
  "metadata": {
    "colab": {
      "provenance": [],
      "authorship_tag": "ABX9TyMOXgWHCoTMB0XXMQgs/BY9",
      "include_colab_link": true
    },
    "kernelspec": {
      "name": "python3",
      "display_name": "Python 3"
    },
    "language_info": {
      "name": "python"
    }
  },
  "cells": [
    {
      "cell_type": "markdown",
      "metadata": {
        "id": "view-in-github",
        "colab_type": "text"
      },
      "source": [
        "<a href=\"https://colab.research.google.com/github/Kirti166/Python_Certification_Preparation/blob/main/PC_Assignment4.ipynb\" target=\"_parent\"><img src=\"https://colab.research.google.com/assets/colab-badge.svg\" alt=\"Open In Colab\"/></a>"
      ]
    },
    {
      "cell_type": "code",
      "execution_count": 4,
      "metadata": {
        "colab": {
          "base_uri": "https://localhost:8080/"
        },
        "id": "WsXWvwPikXeW",
        "outputId": "2e504272-1db2-49b4-d514-1ac2d0f0c730"
      },
      "outputs": [
        {
          "output_type": "stream",
          "name": "stdout",
          "text": [
            "2 1\n",
            "5 6\n",
            "7.00+7.00i\n",
            "-3.00-5.00i\n",
            "4.00+17.00i\n",
            "0.26-0.11i\n",
            "2.24+0.00i\n",
            "7.81+0.00i\n"
          ]
        }
      ],
      "source": [
        "#  https://www.hackerrank.com/challenges/class-1-dealing-with-complex-numbers/submissions/code/331450658\n",
        "\n",
        "import math\n",
        "\n",
        "class Complex(object):\n",
        "    def __init__(self, real, img):\n",
        "        self.real = real\n",
        "        self.img = img\n",
        "\n",
        "    def __add__(self, no):\n",
        "        return Complex(self.real + no.real, self.img + no.img)\n",
        "\n",
        "    def __sub__(self, no):\n",
        "        return Complex(self.real - no.real, self.img - no.img)\n",
        "\n",
        "    def __mul__(self, no):\n",
        "        return Complex(self.real*no.real - self.img*no.img,\n",
        "                      self.real*no.img + self.img*no.real)\n",
        "\n",
        "    def __truediv__(self, no):\n",
        "        return Complex((self.real*no.real + self.img*no.img)/(no.real**2 + no.img**2),\n",
        "                      (self.img*no.real - self.real*no.img)/(no.real**2 + no.img**2))\n",
        "\n",
        "    def mod(self):\n",
        "        return Complex((self.real**2 + self.img**2)**(1/2),\n",
        "                       0)\n",
        "\n",
        "    def __str__(self):\n",
        "        if self.img == 0:\n",
        "            result = \"%.2f+0.00i\" % (self.real)\n",
        "        elif self.real == 0:\n",
        "            if self.img >= 0:\n",
        "                result = \"0.00+%.2fi\" % (self.img)\n",
        "            else:\n",
        "                result = \"0.00-%.2fi\" % (abs(self.img))\n",
        "        elif self.img > 0:\n",
        "            result = \"%.2f+%.2fi\" % (self.real, self.img)\n",
        "        else:\n",
        "            result = \"%.2f-%.2fi\" % (self.real, abs(self.img))\n",
        "        return result\n",
        "\n",
        "if __name__ == '__main__':\n",
        "    c = map(float, input().split())\n",
        "    d = map(float, input().split())\n",
        "    x = Complex(*c)\n",
        "    y = Complex(*d)\n",
        "    print(*map(str, [x+y, x-y, x*y, x/y, x.mod(), y.mod()]), sep='\\n')"
      ]
    },
    {
      "cell_type": "code",
      "source": [
        "# https://www.hackerrank.com/challenges/class-2-find-the-torsional-angle/submissions/code/331451316\n",
        "\n",
        "import math\n",
        "\n",
        "\n",
        "class Points(object):\n",
        "    def __init__(self, x, y, z):\n",
        "        self.x = x\n",
        "        self.y = y\n",
        "        self.z = z\n",
        "\n",
        "    def __sub__(self, no):\n",
        "        return  Points((self.x-no.x), (self.y-no.y), (self.z-no.z))\n",
        "\n",
        "    def dot(self, no):\n",
        "        return (self.x*no.x)+(self.y*no.y)+(self.z*no.z)\n",
        "\n",
        "    def cross(self, no):\n",
        "        return Points((self.y*no.z-self.z*no.y), (self.z*no.x-self.x*no.z), (self.x*no.y-self.y*no.x))\n",
        "\n",
        "    def absolute(self):\n",
        "        return pow((self.x ** 2 + self.y ** 2 + self.z ** 2), 0.5)\n",
        "\n",
        "\n",
        "\n",
        "if __name__ == '__main__':\n",
        "    points = list()\n",
        "    for i in range(4):\n",
        "        a = list(map(float, input().split()))\n",
        "        points.append(a)\n",
        "\n",
        "    a, b, c, d = Points(*points[0]), Points(*points[1]), Points(*points[2]), Points(*points[3])\n",
        "    x = (b - a).cross(c - b)\n",
        "    y = (c - b).cross(d - c)\n",
        "    angle = math.acos(x.dot(y) / (x.absolute() * y.absolute()))\n",
        "\n",
        "    print(\"%.2f\" % math.degrees(angle))"
      ],
      "metadata": {
        "colab": {
          "base_uri": "https://localhost:8080/"
        },
        "id": "XyN5ygYghb7w",
        "outputId": "2cc60165-515f-486c-9e7d-f22b9768ff8b"
      },
      "execution_count": 6,
      "outputs": [
        {
          "output_type": "stream",
          "name": "stdout",
          "text": [
            "0 4 5\n",
            "1 7 6\n",
            "0 5 9\n",
            "1 7 2\n",
            "8.19\n"
          ]
        }
      ]
    }
  ]
}