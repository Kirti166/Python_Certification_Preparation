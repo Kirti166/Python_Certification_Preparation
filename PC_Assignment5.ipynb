{
  "nbformat": 4,
  "nbformat_minor": 0,
  "metadata": {
    "colab": {
      "provenance": [],
      "authorship_tag": "ABX9TyMu+CHhFPVh4HE/2WLYAzWz",
      "include_colab_link": true
    },
    "kernelspec": {
      "name": "python3",
      "display_name": "Python 3"
    },
    "language_info": {
      "name": "python"
    }
  },
  "cells": [
    {
      "cell_type": "markdown",
      "metadata": {
        "id": "view-in-github",
        "colab_type": "text"
      },
      "source": [
        "<a href=\"https://colab.research.google.com/github/Kirti166/Python_Certification_Preparation/blob/main/PC_Assignment5.ipynb\" target=\"_parent\"><img src=\"https://colab.research.google.com/assets/colab-badge.svg\" alt=\"Open In Colab\"/></a>"
      ]
    },
    {
      "cell_type": "code",
      "execution_count": 6,
      "metadata": {
        "colab": {
          "base_uri": "https://localhost:8080/"
        },
        "id": "p9lr7yFYk7OP",
        "outputId": "7c2cde12-92ad-408e-85fd-8b4e85d949b9"
      },
      "outputs": [
        {
          "output_type": "stream",
          "name": "stdout",
          "text": [
            "3\n"
          ]
        }
      ],
      "source": [
        "#  https://www.hackerrank.com/challenges/xml-1-find-the-score/submissions/code/331462419\n",
        "\n",
        "\n",
        "import sys\n",
        "import xml.etree.ElementTree as etree\n",
        "\n",
        "def get_attr_number(node):\n",
        "    return len(node.attrib) + sum(get_attr_number(child) for child in node)\n",
        "\n",
        "def count_attributes(xml_string):\n",
        "    tree = etree.ElementTree(etree.fromstring(xml_string))\n",
        "    root = tree.getroot()\n",
        "    return get_attr_number(root)\n",
        "\n",
        "\n",
        "xml_input = '''\n",
        "<root>\n",
        "  <element1 attribute1=\"value1\" attribute2=\"value2\"/>\n",
        "  <element2 attribute3=\"value3\"/>\n",
        "</root>\n",
        "'''\n",
        "\n",
        "attribute_count = count_attributes(xml_input)\n",
        "print(attribute_count)\n",
        "\n",
        "\n"
      ]
    },
    {
      "cell_type": "code",
      "source": [
        "#  https://www.hackerrank.com/challenges/xml2-find-the-maximum-depth/submissions/code/331463021\n",
        "\n",
        "import xml.etree.ElementTree as etree\n",
        "\n",
        "maxdepth = 0\n",
        "\n",
        "def depth(elem, level):\n",
        "    global maxdepth\n",
        "    if level + 1 > maxdepth:\n",
        "        maxdepth = level + 1\n",
        "    [depth(child, level + 1) for child in elem]\n",
        "    return maxdepth\n",
        "\n",
        "def calculate_max_depth(xml_string):\n",
        "    tree = etree.ElementTree(etree.fromstring(xml_string))\n",
        "    depth(tree.getroot(), -1)\n",
        "    return maxdepth\n",
        "\n",
        "# Test the code\n",
        "xml_input = '''\n",
        "<root>\n",
        "  <element1>\n",
        "    <subelement1/>\n",
        "  </element1>\n",
        "  <element2>\n",
        "    <subelement2/>\n",
        "  </element2>\n",
        "</root>\n",
        "'''\n",
        "\n",
        "max_depth = calculate_max_depth(xml_input)\n",
        "print(max_depth)\n"
      ],
      "metadata": {
        "colab": {
          "base_uri": "https://localhost:8080/"
        },
        "id": "K_gGTJof4Fjj",
        "outputId": "5a07e235-648d-4e51-cd7e-6a1025208ac5"
      },
      "execution_count": 7,
      "outputs": [
        {
          "output_type": "stream",
          "name": "stdout",
          "text": [
            "2\n"
          ]
        }
      ]
    }
  ]
}