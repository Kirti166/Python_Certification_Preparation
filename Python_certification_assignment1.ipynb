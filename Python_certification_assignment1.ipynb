{
  "nbformat": 4,
  "nbformat_minor": 0,
  "metadata": {
    "colab": {
      "provenance": [],
      "authorship_tag": "ABX9TyMMBG1yUOnSwsEh1H4APP+b",
      "include_colab_link": true
    },
    "kernelspec": {
      "name": "python3",
      "display_name": "Python 3"
    },
    "language_info": {
      "name": "python"
    }
  },
  "cells": [
    {
      "cell_type": "markdown",
      "metadata": {
        "id": "view-in-github",
        "colab_type": "text"
      },
      "source": [
        "<a href=\"https://colab.research.google.com/github/Kirti166/Python_Certification_Preparation/blob/main/Python_certification_assignment1.ipynb\" target=\"_parent\"><img src=\"https://colab.research.google.com/assets/colab-badge.svg\" alt=\"Open In Colab\"/></a>"
      ]
    },
    {
      "cell_type": "code",
      "execution_count": null,
      "metadata": {
        "colab": {
          "base_uri": "https://localhost:8080/"
        },
        "id": "uQzHY_et60Qi",
        "outputId": "492fc4f9-c185-4422-b26b-22affb1b014c"
      },
      "outputs": [
        {
          "output_type": "stream",
          "name": "stdout",
          "text": [
            "2\n",
            "Harsh 25 26.5 28\n",
            "Anurag 26 28 30\n",
            "Harsh\n",
            "26.50\n"
          ]
        }
      ],
      "source": [
        "# 1)https://www.hackerrank.com/challenges/finding-the-percentage/submissions/code/330883223\n",
        "\n",
        "n = int(input())\n",
        "student_data = {}\n",
        "\n",
        "for _ in range(n):\n",
        "    name, *marks = input().split()\n",
        "    marks = list(map(float, marks))\n",
        "    student_data[name] = marks\n",
        "    \n",
        "query_name = input()\n",
        "average_marks = sum(student_data[query_name]) / len(student_data[query_name])\n",
        "print(\"{:.2f}\".format(average_marks))\n",
        "\n"
      ]
    },
    {
      "cell_type": "code",
      "source": [
        "# 2)https://www.hackerrank.com/challenges/python-string-split-and-join/submissions/code/330886201\n",
        "\n",
        "def split_and_join(line):\n",
        "    words = line.split(\" \")  \n",
        "    joined_string = \"-\".join(words)\n",
        "    return joined_string\n",
        "\n",
        "input_string = \"this is a string\"\n",
        "result = split_and_join(input_string)\n",
        "print(result)\n",
        "\n"
      ],
      "metadata": {
        "colab": {
          "base_uri": "https://localhost:8080/"
        },
        "id": "5XWLEENyDSdX",
        "outputId": "3ba4ad15-39ae-43e8-d0d6-d25ff6bedda3"
      },
      "execution_count": null,
      "outputs": [
        {
          "output_type": "stream",
          "name": "stdout",
          "text": [
            "this-is-a-string\n"
          ]
        }
      ]
    },
    {
      "cell_type": "code",
      "source": [
        "#3)https://www.hackerrank.com/challenges/py-set-intersection-operation/submissions/code/330887712\n",
        "\n",
        "n_eng = int(input())\n",
        "eng_roll_nums = input().split()\n",
        "n_french = int(input())\n",
        "\n",
        "french_roll_nums = input().split()\n",
        "set_eng = set(map(int, eng_roll_nums))\n",
        "set_french = set(map(int, french_roll_nums))\n",
        "\n",
        "intersection_set = set_eng.intersection(set_french)\n",
        "total_students = len(intersection_set)\n",
        "print(total_students)\n"
      ],
      "metadata": {
        "colab": {
          "base_uri": "https://localhost:8080/"
        },
        "id": "rz3mbZDkDSgx",
        "outputId": "bf182827-e2bc-45d3-81fe-e792eb36a312"
      },
      "execution_count": null,
      "outputs": [
        {
          "output_type": "stream",
          "name": "stdout",
          "text": [
            "9\n",
            "1 2 3 4 5 6 7 8 9 \n",
            "9\n",
            "10 1 2 3 11 21 55 6 8\n",
            "5\n"
          ]
        }
      ]
    },
    {
      "cell_type": "code",
      "source": [
        "# 4)https://www.hackerrank.com/challenges/find-second-maximum-number-in-a-list/submissions/code/330889129\n",
        "\n",
        "n = int(input())\n",
        "scores_str = input()\n",
        "\n",
        "scores_list = list(map(int, scores_str.split()))\n",
        "unique_scores_list = list(set(scores_list))\n",
        "unique_scores_list.sort(reverse=True)\n",
        "runner_up_score = unique_scores_list[1]\n",
        "\n",
        "print(runner_up_score)\n"
      ],
      "metadata": {
        "colab": {
          "base_uri": "https://localhost:8080/"
        },
        "id": "SkQcffqtDVQ2",
        "outputId": "20895247-1118-44b8-d206-11e70f0166f2"
      },
      "execution_count": null,
      "outputs": [
        {
          "output_type": "stream",
          "name": "stdout",
          "text": [
            "5\n",
            "2 3 6 6 5\n",
            "5\n"
          ]
        }
      ]
    },
    {
      "cell_type": "code",
      "source": [
        "# 5) https://www.hackerrank.com/challenges/swap-case/submissions/code/330889971\n",
        "\n",
        "def swap_case(s):\n",
        "    swapped = \"\"\n",
        "    for char in s:\n",
        "        if char.isupper():\n",
        "            swapped += char.lower()\n",
        "        elif char.islower():\n",
        "            swapped += char.upper()\n",
        "        else:\n",
        "            swapped += char\n",
        "    return swapped\n",
        "\n",
        "s = 'HackerRank.com presents \"Pythonist 2\".'\n",
        "print(swap_case(s))\n",
        "\n"
      ],
      "metadata": {
        "colab": {
          "base_uri": "https://localhost:8080/"
        },
        "id": "QOt-lLVuDWON",
        "outputId": "072e356b-bd81-4943-b28c-c9e08dfed99d"
      },
      "execution_count": null,
      "outputs": [
        {
          "output_type": "stream",
          "name": "stdout",
          "text": [
            "hACKERrANK.COM PRESENTS \"pYTHONIST 2\".\n"
          ]
        }
      ]
    },
    {
      "cell_type": "code",
      "source": [
        "# 6)hackerrank.com/challenges/python-arithmetic-operators/submissions/code/330890559\n",
        "\n",
        "if __name__ == '__main__':\n",
        "    a = int(input())\n",
        "    b = int(input())\n",
        "    \n",
        "    sum_result = a + b\n",
        "    diff_result = a - b\n",
        "    prod_result = a * b\n",
        "\n",
        "\n",
        "    print(sum_result)\n",
        "    print(diff_result)\n",
        "    print(prod_result)\n"
      ],
      "metadata": {
        "colab": {
          "base_uri": "https://localhost:8080/"
        },
        "id": "PW4xfehDDXTE",
        "outputId": "4951577f-4b92-4cb0-dcf5-e2650e6b0cdd"
      },
      "execution_count": null,
      "outputs": [
        {
          "output_type": "stream",
          "name": "stdout",
          "text": [
            "3\n",
            "2\n",
            "5\n",
            "1\n",
            "6\n"
          ]
        }
      ]
    },
    {
      "cell_type": "code",
      "source": [
        "#7) https://www.hackerrank.com/challenges/python-division/submissions/code/330890954\n",
        "\n",
        "if __name__ == '__main__':\n",
        "    a = int(input())\n",
        "    b = int(input())\n",
        "    \n",
        "    int_div = a//b\n",
        "    float_div = a/b\n",
        "    print(int_div)\n",
        "    print(float_div)\n"
      ],
      "metadata": {
        "colab": {
          "base_uri": "https://localhost:8080/"
        },
        "id": "-u6V7JR5DYKO",
        "outputId": "0b76bf02-06f4-488c-a467-929abcdeb5d1"
      },
      "execution_count": null,
      "outputs": [
        {
          "output_type": "stream",
          "name": "stdout",
          "text": [
            "25\n",
            "5\n",
            "5\n",
            "5.0\n"
          ]
        }
      ]
    },
    {
      "cell_type": "code",
      "source": [
        "# 8) https://www.hackerrank.com/challenges/py-if-else/submissions/code/330891766\n",
        "\n",
        "if __name__ == '__main__':\n",
        "    \n",
        "    n = int(input())\n",
        "\n",
        "    if n % 2 != 0:\n",
        "        print(\"Weird\")\n",
        "    elif n >= 2 and n <= 5:\n",
        "        print(\"Not Weird\")\n",
        "    elif n >= 6 and n <= 20:\n",
        "        print(\"Weird\")\n",
        "    else:\n",
        "        print(\"Not Weird\")\n"
      ],
      "metadata": {
        "colab": {
          "base_uri": "https://localhost:8080/"
        },
        "id": "_s5pWn94DZJQ",
        "outputId": "b844353b-2bac-44ef-c997-97a4fd8126ef"
      },
      "execution_count": null,
      "outputs": [
        {
          "output_type": "stream",
          "name": "stdout",
          "text": [
            "3\n",
            "Weird\n"
          ]
        }
      ]
    },
    {
      "cell_type": "code",
      "source": [
        "# 9)  https://www.hackerrank.com/challenges/nested-list/submissions/code/330892737\n",
        "\n",
        "if __name__ == '__main__':\n",
        "    students = []\n",
        "    \n",
        "    for _ in range(int(input())):\n",
        "        name = input()                       # Input  [['Harry', 37.21], ['Berry', 37.21], ['Tina', 37.2], ['Akriti', 41], ['Harsh', 39]]\n",
        "        grade = float(input())\n",
        "        students.append([name, grade])\n",
        "\n",
        "    second_lowest_grade = sorted(set([grade for name, grade in students]))[1]\n",
        "\n",
        "    second_lowest_students = sorted([name for name, grade in students if grade == second_lowest_grade])\n",
        "    print('output')\n",
        "    for student in second_lowest_students:\n",
        "        print(student)                                      # output  Berry, Harry"
      ],
      "metadata": {
        "colab": {
          "base_uri": "https://localhost:8080/"
        },
        "id": "vN6XkclhDaXj",
        "outputId": "2269bdf4-1197-4e4e-9e9d-a93d448ca632"
      },
      "execution_count": null,
      "outputs": [
        {
          "output_type": "stream",
          "name": "stdout",
          "text": [
            "5\n",
            "Harry\n",
            "37.21\n",
            "Berry\n",
            "37.21\n",
            "Tina\n",
            "37.2\n",
            "Akriti\n",
            "41\n",
            "Harsh\n",
            "39\n",
            "output\n",
            "Berry\n",
            "Harry\n"
          ]
        }
      ]
    },
    {
      "cell_type": "code",
      "source": [
        "#10) https://www.hackerrank.com/challenges/python-loops/submissions/code/330893371\n",
        "\n",
        "if __name__ == '__main__':\n",
        "    n = 5\n",
        "    print('input:', n)\n",
        "    print('output')\n",
        "\n",
        "    for i in range(n):\n",
        "        print(i * i)\n"
      ],
      "metadata": {
        "colab": {
          "base_uri": "https://localhost:8080/"
        },
        "id": "lwumqrxxDbaP",
        "outputId": "250728e5-0844-422a-e901-ca2ab6b054e1"
      },
      "execution_count": null,
      "outputs": [
        {
          "output_type": "stream",
          "name": "stdout",
          "text": [
            "input: 5\n",
            "output\n",
            "0\n",
            "1\n",
            "4\n",
            "9\n",
            "16\n"
          ]
        }
      ]
    },
    {
      "cell_type": "code",
      "source": [
        "# 11)https://www.hackerrank.com/challenges/write-a-function/submissions/code/330893736\n",
        "\n",
        "def is_leap(year):\n",
        "    leap = False\n",
        "    \n",
        "    if year % 4 == 0:\n",
        "        leap = True\n",
        "        if year % 100 == 0:\n",
        "            leap = False\n",
        "            if year % 400 == 0:\n",
        "                leap = True\n",
        "    \n",
        "    return leap\n",
        "\n",
        "year = 1990\n",
        "print(is_leap(year))\n"
      ],
      "metadata": {
        "colab": {
          "base_uri": "https://localhost:8080/"
        },
        "id": "eVp2Ln51DciH",
        "outputId": "72e5d69e-aec3-4350-e45d-33f5fd7b9fef"
      },
      "execution_count": null,
      "outputs": [
        {
          "output_type": "stream",
          "name": "stdout",
          "text": [
            "False\n"
          ]
        }
      ]
    },
    {
      "cell_type": "code",
      "source": [
        "# 12) https://www.hackerrank.com/challenges/find-a-string/submissions/code/330894079\n",
        "\n",
        "def count_substring(string, sub_string):\n",
        "    count = 0\n",
        "    sub_len = len(sub_string)\n",
        "    \n",
        "    for i in range(len(string) - sub_len + 1):\n",
        "        if string[i:i+sub_len] == sub_string:\n",
        "            count += 1\n",
        "    \n",
        "    return count\n",
        "\n",
        "string ='ABCDCDC' \n",
        "substring = 'CDC'\n",
        "print(count_substring(string, substring))\n",
        "\n"
      ],
      "metadata": {
        "colab": {
          "base_uri": "https://localhost:8080/"
        },
        "id": "kzGO1H-VDd25",
        "outputId": "e5be2827-ef60-4d73-d233-d90b1efbaf7b"
      },
      "execution_count": null,
      "outputs": [
        {
          "output_type": "stream",
          "name": "stdout",
          "text": [
            "2\n"
          ]
        }
      ]
    },
    {
      "cell_type": "code",
      "source": [
        "#13)  https://www.hackerrank.com/challenges/python-lists/submissions/code/330938657\n",
        "\n",
        "if __name__ == '__main__':\n",
        "    N = int(input())  \n",
        "    arr = []  \n",
        "\n",
        "    for _ in range(N):\n",
        "        command = input().split()  \n",
        "\n",
        "        if command[0] == 'insert':\n",
        "            arr.insert(int(command[1]), int(command[2]))\n",
        "        elif command[0] == 'print':\n",
        "            print(arr)\n",
        "        elif command[0] == 'remove':\n",
        "            arr.remove(int(command[1]))\n",
        "        elif command[0] == 'append':\n",
        "            arr.append(int(command[1]))\n",
        "        elif command[0] == 'sort':\n",
        "            arr.sort()\n",
        "        elif command[0] == 'pop':\n",
        "            arr.pop()\n",
        "        elif command[0] == 'reverse':\n",
        "            arr.reverse()\n"
      ],
      "metadata": {
        "colab": {
          "base_uri": "https://localhost:8080/"
        },
        "id": "k4Z4q9wvDe4h",
        "outputId": "672901af-1bf2-435e-9a9f-53523d428c13"
      },
      "execution_count": null,
      "outputs": [
        {
          "output_type": "stream",
          "name": "stdout",
          "text": [
            "12\n",
            "insert 0 5\n",
            "insert 0 10\n",
            "insert 0 6\n",
            "print\n",
            "[6, 10, 5]\n",
            "remove 6\n",
            "append 9\n",
            "append 1\n",
            "sort\n",
            "print\n",
            "[1, 5, 9, 10]\n",
            "pop\n",
            "reverse\n",
            "print\n",
            "[9, 5, 1]\n"
          ]
        }
      ]
    }
  ]
}