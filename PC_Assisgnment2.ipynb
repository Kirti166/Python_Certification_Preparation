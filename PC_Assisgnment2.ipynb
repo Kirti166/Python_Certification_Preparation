{
  "nbformat": 4,
  "nbformat_minor": 0,
  "metadata": {
    "colab": {
      "provenance": [],
      "authorship_tag": "ABX9TyPUbCV50gagzNdoZmav2pnK",
      "include_colab_link": true
    },
    "kernelspec": {
      "name": "python3",
      "display_name": "Python 3"
    },
    "language_info": {
      "name": "python"
    }
  },
  "cells": [
    {
      "cell_type": "markdown",
      "metadata": {
        "id": "view-in-github",
        "colab_type": "text"
      },
      "source": [
        "<a href=\"https://colab.research.google.com/github/Kirti166/Python_Certification_Preparation/blob/main/PC_Assisgnment2.ipynb\" target=\"_parent\"><img src=\"https://colab.research.google.com/assets/colab-badge.svg\" alt=\"Open In Colab\"/></a>"
      ]
    },
    {
      "cell_type": "code",
      "execution_count": 14,
      "metadata": {
        "colab": {
          "base_uri": "https://localhost:8080/"
        },
        "id": "x3BHD_ySqN4V",
        "outputId": "0da8a053-de88-4997-d8fc-5f7c12651943"
      },
      "outputs": [
        {
          "output_type": "stream",
          "name": "stdout",
          "text": [
            "5\n",
            "[0, 1, 1, 8, 27]\n"
          ]
        }
      ],
      "source": [
        "#1)  https://www.hackerrank.com/challenges/map-and-lambda-expression/submissions/code/330960280\n",
        "\n",
        "cube = lambda x:x**3 # complete the lambda function \n",
        "\n",
        "def fibonacci(n):\n",
        "    if n == 0:\n",
        "        return []\n",
        "    elif n == 1:\n",
        "        return [0]\n",
        "    else:\n",
        "        fib_list = [0, 1]\n",
        "        for i in range(2,n):\n",
        "            fib_list.append(fib_list[i-1]+fib_list[i-2])\n",
        "    \n",
        "    return fib_list\n",
        "    \n",
        "    \n",
        "if __name__ == '__main__':\n",
        "    n = int(input())\n",
        "    print(list(map(cube, fibonacci(n))))   "
      ]
    },
    {
      "cell_type": "code",
      "source": [
        "#2)  https://www.hackerrank.com/challenges/list-comprehensions/submissions/code/330960310\n",
        "\n",
        "x = int(input())\n",
        "y = int(input())\n",
        "z = int(input())\n",
        "n = int(input())\n",
        "\n",
        "coordinates = [[i, j, k] for i in range(x+1) for j in range(y+1) for k in range(z+1) if i+j+k != n]\n",
        "\n",
        "print(coordinates)\n"
      ],
      "metadata": {
        "colab": {
          "base_uri": "https://localhost:8080/"
        },
        "id": "A5ZTSs2utXRN",
        "outputId": "2f957e73-08b1-4c74-9623-093dfe8ce42d"
      },
      "execution_count": 12,
      "outputs": [
        {
          "output_type": "stream",
          "name": "stdout",
          "text": [
            "1\n",
            "1\n",
            "1\n",
            "2\n",
            "[[0, 0, 0], [0, 0, 1], [0, 1, 0], [1, 0, 0], [1, 1, 1]]\n"
          ]
        }
      ]
    },
    {
      "cell_type": "code",
      "source": [
        "#3)  https://www.hackerrank.com/challenges/matching-specific-string/submissions/code/330961374\n",
        "\n",
        "Regex_Pattern =r'\\bhackerrank'   \n",
        "\n",
        "\n",
        "import re\n",
        "\n",
        "Test_String = input()\n",
        "\n",
        "match = re.findall(Regex_Pattern, Test_String)\n",
        "\n",
        "print(\"Number of matches:\", len(match))\n"
      ],
      "metadata": {
        "colab": {
          "base_uri": "https://localhost:8080/"
        },
        "id": "oLaAl9x2t55y",
        "outputId": "b5058aa0-9e5e-4337-97f7-e71d8d681ef8"
      },
      "execution_count": 6,
      "outputs": [
        {
          "output_type": "stream",
          "name": "stdout",
          "text": [
            "The hackerrank team is on a mission to flatten the world by restructuring the DNA of every company on the planet. We rank programmers based on their coding skills, helping companies source great programmers and reduce the time to hire. As a result, we are revolutionizing the way companies discover and evaluate talented engineers. The hackerrank platform is the destination for the best engineers to hone their skills and companies to find top engineers.\n",
            "Number of matches: 2\n"
          ]
        }
      ]
    },
    {
      "cell_type": "code",
      "source": [
        "#4)  https://www.hackerrank.com/challenges/matching-digits-non-digit-character/submissions/code/330961497\n",
        "\n",
        "Regex_Pattern = r\"[\\w]{2}[\\D][\\d]{2}[\\D][\\d]{4}\"\t\n",
        "\n",
        "import re\n",
        "\n",
        "print(str(bool(re.search(Regex_Pattern, input()))).lower())"
      ],
      "metadata": {
        "colab": {
          "base_uri": "https://localhost:8080/"
        },
        "id": "s07MxJk-vOG8",
        "outputId": "a9b0eddf-d44d-4820-a33d-30c7c7bb9969"
      },
      "execution_count": 3,
      "outputs": [
        {
          "output_type": "stream",
          "name": "stdout",
          "text": [
            " \"The event took place on 06-11-2015, and it was a historic moment for everyone who attended. People gathered from all around the world to witness the grand celebration. The date 06-11-2015 will forever be etched in our memories as a significant day in history.\"\n",
            "true\n"
          ]
        }
      ]
    },
    {
      "cell_type": "code",
      "source": [
        "#5)  https://www.hackerrank.com/challenges/matching-specific-characters/submissions/code/331329698\n",
        "\n",
        "Regex_Pattern = r'^[123][120][xs0][30aA][xsu][,.]$'\t\n",
        "\n",
        "import re\n",
        "\n",
        "print(str(bool(re.search(Regex_Pattern, input()))).lower())\n"
      ],
      "metadata": {
        "id": "IoNGvq72w6kd",
        "colab": {
          "base_uri": "https://localhost:8080/"
        },
        "outputId": "2cf080b1-c19c-4488-85c8-3712b307dab0"
      },
      "execution_count": 5,
      "outputs": [
        {
          "output_type": "stream",
          "name": "stdout",
          "text": [
            "1203x.\n",
            "true\n"
          ]
        }
      ]
    },
    {
      "cell_type": "code",
      "source": [
        "# 6)  https://www.hackerrank.com/challenges/matching-range-of-characters/submissions/code/331331379\n",
        "\n",
        "Regex_Pattern = r'^[a-z][1-9][^a-z][^A-Z][A-Z]'\t  \n",
        "\n",
        "import re\n",
        "\n",
        "print(str(bool(re.search(Regex_Pattern, input()))).lower())"
      ],
      "metadata": {
        "colab": {
          "base_uri": "https://localhost:8080/"
        },
        "id": "kDjU4dT0w6mU",
        "outputId": "b92bc090-315c-4a7c-b404-e4b24a8ee902"
      },
      "execution_count": 8,
      "outputs": [
        {
          "output_type": "stream",
          "name": "stdout",
          "text": [
            "h4CkR\n",
            "true\n"
          ]
        }
      ]
    },
    {
      "cell_type": "code",
      "source": [
        "#7)  https://www.hackerrank.com/challenges/matching-start-end/submissions/code/331337331\n",
        "\n",
        "Regex_Pattern =  r\"^\\d\\w{4}.$\"\t\n",
        "\n",
        "import re\n",
        "\n",
        "print(str(bool(re.search(Regex_Pattern, input()))).lower())"
      ],
      "metadata": {
        "colab": {
          "base_uri": "https://localhost:8080/"
        },
        "id": "BGVig8v3S4ZB",
        "outputId": "54075655-aea6-4e50-e0ed-746853051ca3"
      },
      "execution_count": 13,
      "outputs": [
        {
          "output_type": "stream",
          "name": "stdout",
          "text": [
            "0qwer.\n",
            "true\n"
          ]
        }
      ]
    }
  ]
}