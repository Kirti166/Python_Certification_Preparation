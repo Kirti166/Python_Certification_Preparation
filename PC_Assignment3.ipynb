{
  "nbformat": 4,
  "nbformat_minor": 0,
  "metadata": {
    "colab": {
      "provenance": [],
      "authorship_tag": "ABX9TyPA+YdX2v8L3BUrqOJfPNlI",
      "include_colab_link": true
    },
    "kernelspec": {
      "name": "python3",
      "display_name": "Python 3"
    },
    "language_info": {
      "name": "python"
    }
  },
  "cells": [
    {
      "cell_type": "markdown",
      "metadata": {
        "id": "view-in-github",
        "colab_type": "text"
      },
      "source": [
        "<a href=\"https://colab.research.google.com/github/Kirti166/Python_Certification_Preparation/blob/main/PC_Assignment3.ipynb\" target=\"_parent\"><img src=\"https://colab.research.google.com/assets/colab-badge.svg\" alt=\"Open In Colab\"/></a>"
      ]
    },
    {
      "cell_type": "code",
      "execution_count": 2,
      "metadata": {
        "colab": {
          "base_uri": "https://localhost:8080/"
        },
        "id": "ViwC5cnohbSk",
        "outputId": "945645ea-a3ed-422f-cbd1-b07a67337c66"
      },
      "outputs": [
        {
          "output_type": "stream",
          "name": "stdout",
          "text": [
            "HACK 2\n",
            "A\n",
            "C\n",
            "H\n",
            "K\n",
            "AC\n",
            "AH\n",
            "AK\n",
            "CH\n",
            "CK\n",
            "HK\n"
          ]
        }
      ],
      "source": [
        "#  https://www.hackerrank.com/challenges/itertools-combinations/submissions/code/331340300\n",
        "\n",
        "from itertools import combinations\n",
        "\n",
        "S,K = input().split()\n",
        "K = int(K)\n",
        "S = sorted(S)\n",
        "\n",
        "for i in range(1,K+1):\n",
        "    for combination in combinations(S,i):\n",
        "        print(\"\".join(combination))"
      ]
    },
    {
      "cell_type": "code",
      "source": [
        "#  https://www.hackerrank.com/challenges/itertools-product/submissions/code/331340959\n",
        "\n",
        "from itertools import product\n",
        "\n",
        "A = list(map(int, input().split()))\n",
        "\n",
        "B = list(map(int, input().split()))\n",
        "\n",
        "for item in list(product(A, B)):\n",
        "    print(f\"({item[0]}, {item[1]})\", end=' ')\n"
      ],
      "metadata": {
        "colab": {
          "base_uri": "https://localhost:8080/"
        },
        "id": "sMUSOwKih0Mg",
        "outputId": "2b08541a-da39-4bac-cfd7-8d9604aac7c9"
      },
      "execution_count": 5,
      "outputs": [
        {
          "output_type": "stream",
          "name": "stdout",
          "text": [
            "1 2\n",
            "3 4\n",
            "(1, 3) (1, 4) (2, 3) (2, 4) "
          ]
        }
      ]
    },
    {
      "cell_type": "code",
      "source": [
        "# https://www.hackerrank.com/challenges/itertools-permutations/submissions/code/331341255\n",
        "\n",
        "from itertools import permutations\n",
        "\n",
        "S,K = input().split()\n",
        "K = int(K)\n",
        "arr = sorted(list(permutations(S,K)))\n",
        "for i in arr:\n",
        "    print(\"\".join(i))"
      ],
      "metadata": {
        "colab": {
          "base_uri": "https://localhost:8080/"
        },
        "id": "LDBFEHlcjTnX",
        "outputId": "39c27db1-caed-4212-8934-99bebb5f3db5"
      },
      "execution_count": 6,
      "outputs": [
        {
          "output_type": "stream",
          "name": "stdout",
          "text": [
            "HACK 2\n",
            "AC\n",
            "AH\n",
            "AK\n",
            "CA\n",
            "CH\n",
            "CK\n",
            "HA\n",
            "HC\n",
            "HK\n",
            "KA\n",
            "KC\n",
            "KH\n"
          ]
        }
      ]
    }
  ]
}